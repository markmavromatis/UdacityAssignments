{
 "cells": [
  {
   "cell_type": "markdown",
   "metadata": {},
   "source": [
    "# Create MongoDB JSON File From XML Import File\n",
    "\n",
    "Step 2 is to convert the pre-import XML file to JSON so that we can import to MongoDB."
   ]
  },
  {
   "cell_type": "code",
   "execution_count": 1,
   "metadata": {
    "collapsed": true
   },
   "outputs": [],
   "source": [
    "# Filtered file\n",
    "# This file is a subset of the original file with certain rows removed due to our lack of interest\n",
    "FILTERED_FILE = \"/Users/markmavromatis/Downloads/san-francisco_california_filtered.osm\"\n",
    "\n",
    "ERRORS_FILE = \"/Users/markmavromatis/Downloads/san-francisco_json_creation_errors.txt\"\n",
    "OUT_JSON_FILE = \"/Users/markmavromatis/Downloads/san-francisco_california_filtered.json\""
   ]
  },
  {
   "cell_type": "code",
   "execution_count": 2,
   "metadata": {
    "collapsed": false
   },
   "outputs": [
    {
     "name": "stdout",
     "output_type": "stream",
     "text": [
      "Created output file: /Users/markmavromatis/Downloads/san-francisco_california_filtered.json\n"
     ]
    }
   ],
   "source": [
    "import xml.etree.cElementTree as ET\n",
    "import pprint\n",
    "import re\n",
    "import codecs\n",
    "import json\n",
    "from collections import defaultdict\n",
    "\n",
    "# Now convert the data to JSON\n",
    "\n",
    "lower = re.compile(r'^([a-z]|_)*$')\n",
    "lower_colon = re.compile(r'^([a-z]|_)*:([a-z]|_)*$')\n",
    "problemchars = re.compile(r'[=\\+/&<>;\\'\"\\?%#$@\\,\\. \\t\\r\\n]')\n",
    "\n",
    "CREATED = [ \"version\", \"changeset\", \"timestamp\", \"user\", \"uid\"]\n",
    "\n",
    "errors_file = open(ERRORS_FILE, \"w\")\n",
    "errors_file.write(\"ID|ERRORTYPE|MESSAGE\\n\")\n",
    "\n",
    "\n",
    "\n",
    "\n",
    "def shape_element(element):\n",
    "    \n",
    "    node = {}\n",
    "    if element.tag == \"node\" or element.tag == \"way\" :\n",
    "        node['type'] = element.tag\n",
    "        node['id'] = element.attrib['id']\n",
    "        node['created'] = {}\n",
    "        \n",
    "        for each_attribute in CREATED:\n",
    "            if each_attribute in element.attrib:\n",
    "                node['created'][each_attribute] = element.attrib[each_attribute]\n",
    "            else:\n",
    "                errors_file.write(\"{}|MISSING_ATTRIBUTE|Missing created attribute: {}\\n\".format(node['id'], each_attribute))\n",
    "        if 'lat' in element.attrib and 'lon' in element.attrib:\n",
    "            node['pos'] = []\n",
    "            node['pos'].append(float(element.attrib['lat']))\n",
    "            node['pos'].append(float(element.attrib['lon']))\n",
    "\n",
    "        if element.tag == 'way':\n",
    "            for child_tag in element.iter('nd'):\n",
    "                a_key = \"node_refs\"\n",
    "                a_value = child_tag.attrib['ref']\n",
    "                if a_key not in node:\n",
    "                    node[a_key] = []\n",
    "                node[a_key].append(a_value)\n",
    "\n",
    "        for child_tag in element.iter(\"tag\"):\n",
    "            a_key = child_tag.attrib['k']\n",
    "            a_value = child_tag.attrib['v']\n",
    "\n",
    "            # Only process keys with non-problematic characters\n",
    "            problem_characters = re.search(problemchars, a_key)\n",
    "            if problem_characters is not None:\n",
    "                # Handle problem characters here\n",
    "                errors_file.write(\"{}|NODEKEY|Problem characters found in key: {}\\n\".format(node['id'], a_key))\n",
    "            else:\n",
    "                depth = 0\n",
    "                insertion_point = node\n",
    "                \n",
    "                # If there are colons in the key, then create dictionaries for each \"level\" (colon)\n",
    "                colon_index = a_key.find(\":\")\n",
    "                while colon_index > 0:\n",
    "                    dict_name = \"\"\n",
    "                    if depth == 0:\n",
    "                        if a_key[0:colon_index] == 'addr':\n",
    "                            # set dictionary name to address for addr: entries\n",
    "                            dict_name = 'address'\n",
    "                        else:\n",
    "                            # Add underscore after prefix to prevent clashes with other tags\n",
    "                            dict_name = a_key[0:colon_index] + \"_\"\n",
    "    \n",
    "                    else:\n",
    "                        # Dictionary name = pre-colon key name\n",
    "                        dict_name = a_key[0:colon_index] + \"_\"\n",
    "\n",
    "                    # Only create new dictionary if none already exists\n",
    "                    if dict_name not in insertion_point:\n",
    "                        insertion_point[dict_name] = {}\n",
    "\n",
    "                    insertion_point = insertion_point[dict_name]\n",
    "\n",
    "\n",
    "                    # Remove new dictionary item from key name and iterate\n",
    "                    a_key = a_key[colon_index + 1:]\n",
    "\n",
    "                    colon_index = a_key.find(\":\") \n",
    "                    depth += 1\n",
    "\n",
    "                insertion_point[a_key] = a_value\n",
    "        return node\n",
    "    else:\n",
    "        return None\n",
    "\n",
    "\n",
    "def process_map(file_in, pretty):\n",
    "\n",
    "    with codecs.open(OUT_JSON_FILE, \"w\") as fo:\n",
    "        row_number = 0\n",
    "        for _, element in ET.iterparse(file_in, events=('start',)):\n",
    "            row_number += 1            \n",
    "            el = shape_element(element)\n",
    "\n",
    "            if el:\n",
    "                if pretty:\n",
    "                    fo.write(json.dumps(el, indent=2)+\"\\n\")\n",
    "                else:\n",
    "                    fo.write(json.dumps(el) + \"\\n\")\n",
    "\n",
    "                \n",
    "    print(\"Created output file: {}\".format(OUT_JSON_FILE))\n",
    "\n",
    "\n",
    "process_map(FILTERED_FILE, True)\n",
    " "
   ]
  },
  {
   "cell_type": "code",
   "execution_count": null,
   "metadata": {
    "collapsed": true
   },
   "outputs": [],
   "source": []
  },
  {
   "cell_type": "code",
   "execution_count": null,
   "metadata": {
    "collapsed": true
   },
   "outputs": [],
   "source": []
  }
 ],
 "metadata": {
  "kernelspec": {
   "display_name": "Python 2",
   "language": "python",
   "name": "python2"
  },
  "language_info": {
   "codemirror_mode": {
    "name": "ipython",
    "version": 2
   },
   "file_extension": ".py",
   "mimetype": "text/x-python",
   "name": "python",
   "nbconvert_exporter": "python",
   "pygments_lexer": "ipython2",
   "version": "2.7.11"
  }
 },
 "nbformat": 4,
 "nbformat_minor": 0
}
