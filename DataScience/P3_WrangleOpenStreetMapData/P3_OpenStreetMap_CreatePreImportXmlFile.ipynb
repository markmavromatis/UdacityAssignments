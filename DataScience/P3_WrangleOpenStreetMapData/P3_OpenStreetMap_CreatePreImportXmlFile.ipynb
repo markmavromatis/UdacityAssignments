{
 "cells": [
  {
   "cell_type": "markdown",
   "metadata": {},
   "source": [
    "## Create Pre-Import XML file\n",
    "\n",
    "The OpenStreetMapping data file for San Francisco is 846MB which is really big. There are 11 million records. Most of these records are empty nodes which represent points on the earth.\n",
    "\n",
    "\n",
    "There is no descriptive information for these nodes therefore they are not needed for our data consistency and uniformity checks. To make the data easier to process, we will filter out these empty nodes which do not have descriptive information.\n",
    "\n",
    "First we store the source and target OSM XML filenames:\n"
   ]
  },
  {
   "cell_type": "code",
   "execution_count": 2,
   "metadata": {
    "collapsed": true
   },
   "outputs": [],
   "source": [
    "# Tiny File\n",
    "#ORIGINAL_FILE = '/Users/markmavromatis/Downloads/san-francisco_california_tiny.osm'\n",
    "\n",
    "# Medium File\n",
    "#ORIGINAL_FILE = '/Users/markmavromatis/Downloads/san-francisco_california_medium.osm'\n",
    "\n",
    "# Large File\n",
    "#ORIGINAL_FILE = '/Users/markmavromatis/Downloads/san-francisco_california_large.osm'\n",
    "\n",
    "\n",
    "# Original File\n",
    "ORIGINAL_FILE = '/Users/markmavromatis/Downloads/san-francisco_california.osm'\n",
    "\n",
    "# Output file\n",
    "FINAL_OXM_XML_FILE = \"/Users/markmavromatis/Downloads/san-francisco_california_filtered.osm\"\n",
    "\n",
    "# Parsing errors file\n",
    "FINAL_OXM_ERRORS_FILE = \"/Users/markmavromatis/Downloads/san-francisco_california_errors.txt\"\n"
   ]
  },
  {
   "cell_type": "markdown",
   "metadata": {},
   "source": [
    "## Phone Number Standardization\n",
    "\n",
    "Phone numbers formatting is all over the place. We should standardize phone numbers where possible to preserve a format. Our preferred format:\n",
    "\n",
    "(###) ###-####\n",
    "\n",
    "Since all phone numbers are in the United States, we can remove the US country code (+1) if present."
   ]
  },
  {
   "cell_type": "code",
   "execution_count": 3,
   "metadata": {
    "collapsed": false
   },
   "outputs": [],
   "source": [
    "import re\n",
    "\n",
    "# Use regex to extract phone number from a field and standardize it.\n",
    "# Regex found here: http://www.diveintopython.net/regular_expressions/phone_numbers.html\n",
    "\n",
    "PHONE_PATTERN_REGEX = re.compile(r'(\\d{3})\\D*(\\d{3})\\D*(\\d{4})\\D*(\\d*)$')\n",
    "\n",
    "\n",
    "# Returns two values:\n",
    "# 1) True/False Whether the standardization was successful\n",
    "# 2) Standardized value (if successful)\n",
    "# 3) Error\n",
    "def standardize_phone_number(original_phone):\n",
    "\n",
    "    was_successful = False\n",
    "    error_message = \"\"\n",
    "    new_phone = original_phone\n",
    "    try:\n",
    "        \n",
    "        phone_parsing_result = PHONE_PATTERN_REGEX.search(original_phone)\n",
    "        if phone_parsing_result == None:\n",
    "            raise ValueError('Unable to parse phone number: ' + original_phone)\n",
    "        new_phone_numbersonly = \"\".join(phone_parsing_result.groups())\n",
    "\n",
    "        # Remove country code (if included)            \n",
    "        if new_phone_numbersonly[0] == '1':\n",
    "            new_phone_numbersonly = new_phone_numbersonly[1:]\n",
    "\n",
    "        \n",
    "        if len(new_phone_numbersonly) != 10:\n",
    "            \n",
    "            raise ValueError('Invalid # of phone # digits for number: {}'.format(original_phone))\n",
    "\n",
    "        #Format the number as (<area code>) <prefix>-<suffix>\n",
    "        new_phone = \"(\" + new_phone_numbersonly[0:3] + \") \" + new_phone_numbersonly[3:6] + \"-\" + new_phone_numbersonly[6:10]\n",
    "        was_successful = True\n",
    "        \n",
    "    except ValueError as ve:\n",
    "        error_message = ve.args[0]\n",
    "        print(\"Unable to standardize phone number: ({})\".format(original_phone))\n",
    "    return was_successful, new_phone, error_message"
   ]
  },
  {
   "cell_type": "code",
   "execution_count": 4,
   "metadata": {
    "collapsed": false
   },
   "outputs": [
    {
     "name": "stdout",
     "output_type": "stream",
     "text": [
      "(True, '(211) 111-1111', '')\n",
      "(True, '(223) 456-7890', '')\n",
      "(True, '(223) 456-7890', '')\n",
      "(True, '(223) 456-7890', '')\n",
      "(True, '(223) 456-7890', '')\n",
      "(True, '(223) 456-7890', '')\n",
      "(True, '(223) 456-7890', '')\n",
      "Unable to standardize phone number: (+1 22-456-7890)\n",
      "(False, '+1 22-456-7890', 'Unable to parse phone number: +1 22-456-7890')\n"
     ]
    }
   ],
   "source": [
    "# Test phone numbers\n",
    "print(standardize_phone_number(\"211 111 1111\"))\n",
    "print(standardize_phone_number(\"223 456 7890\"))\n",
    "print(standardize_phone_number(\"(223) 456 7890\"))\n",
    "print(standardize_phone_number(\"(223) 456-7890\"))\n",
    "print(standardize_phone_number(\"223-456-7890\"))\n",
    "print(standardize_phone_number(\"1 223-456-7890\"))\n",
    "print(standardize_phone_number(\"+1 223-456-7890\"))\n",
    "#Error\n",
    "print(standardize_phone_number(\"+1 22-456-7890\"))\n",
    "\n",
    "\n",
    "\n",
    "\n",
    "\n",
    "\n"
   ]
  },
  {
   "cell_type": "markdown",
   "metadata": {},
   "source": [
    "## Address Standardization\n",
    "\n",
    "1) Street Names \n",
    "\n",
    "Addresses include different abbreviations for street types. We will standardize them as much as possible to be consistent.\n"
   ]
  },
  {
   "cell_type": "code",
   "execution_count": 5,
   "metadata": {
    "collapsed": false
   },
   "outputs": [],
   "source": [
    "\n",
    "\n",
    "street_type_re = re.compile(r'\\b\\S+\\.?$', re.IGNORECASE)\n",
    "\n",
    "# Standardize street types to make street names consistent where possible\n",
    "# Flag non-standard street names as these may be due to data entry errors.\n",
    "def standardize_street_name(street_name):\n",
    "\n",
    "    \n",
    "    was_successful = False\n",
    "    error_message = \"\"\n",
    "    \n",
    "    expected = [\"Street\", \"Avenue\", \"Boulevard\", \"Drive\", \"Court\", \"Place\", \"Square\", \"Lane\", \"Road\", \n",
    "            \"Trail\", \"Parkway\", \"Commons\", \"Circle\", \n",
    "            # Added by Mark\n",
    "            \"Highway\", \"Path\", \"Terrace\", \"Way\"]\n",
    "\n",
    "    exception_streets = [\"El Camino Real\", \"Broadway\"]\n",
    "\n",
    "    # Map incomplete street types to their ideal value\n",
    "    # Ave/Ave. -> Avenue, St -> Street, etc.\n",
    "    mapping = { \n",
    "            \"st\": \"Street\",\n",
    "            \"rd\": \"Road\",\n",
    "            \"ave\" : \"Avenue\",\n",
    "            # Added by Mark\n",
    "            # A few entries have 'avenue' instead of 'Avenue'\n",
    "            # This is also true of 'street' \n",
    "            # To 'fix' the capitalization, perhaps better to do it outside but this is an easy way.\n",
    "            \"avenue\": \"Avenue\",\n",
    "            \"blvd\" : \"Boulevard\",\n",
    "            \"dr\" : \"Drive\",\n",
    "            \"rd\" : \"Road\",\n",
    "            \"st\" : \"Street\",\n",
    "            \"street\" : \"Street\",\n",
    "            \"hwy\" : \"Highway\"\n",
    "    }\n",
    "\n",
    "    # If street name is one of a handful of exceptions, do not attempt to identify street type.\n",
    "    # E.g. El Camino Real\n",
    "    if street_name in exception_streets:\n",
    "        was_successful = True\n",
    "    else:\n",
    "        m = street_type_re.search(street_name)\n",
    "        if m:\n",
    "            street_type = m.group()\n",
    "            final_street_type = street_type\n",
    "\n",
    "            # Convert to lower case and strip trailing period (if exists)\n",
    "            lookup_street_type = street_type.lower()\n",
    "            if lookup_street_type[len(lookup_street_type) - 1] == \".\":\n",
    "                lookup_street_type = lookup_street_type[0:len(lookup_street_type) - 1]\n",
    "\n",
    "            # Check if \"street type\" needs to be mapped to a different value.\n",
    "            if lookup_street_type in mapping:\n",
    "                # Replace original street type with new 'standard' value. \n",
    "                street_name = street_name[0:len(street_name) - len(street_type)] + mapping[lookup_street_type]\n",
    "                # Update street type to new value, so we can check it against expected street types.\n",
    "                street_type = mapping[lookup_street_type]\n",
    "\n",
    "            # If the street type is not \"expected\", log an error and continue.\n",
    "            if street_type not in expected:\n",
    "                was_successful = False\n",
    "                error_message = \"Unable to standardize street name: {}\".format(street_name)\n",
    "            else:\n",
    "                was_successful = True\n",
    "\n",
    "    return was_successful, street_name, error_message\n",
    "\n",
    "           "
   ]
  },
  {
   "cell_type": "code",
   "execution_count": 6,
   "metadata": {
    "collapsed": false
   },
   "outputs": [
    {
     "name": "stdout",
     "output_type": "stream",
     "text": [
      "(True, 'A Avenue', '')\n",
      "(True, 'A Avenue', '')\n",
      "(True, 'A Avenue', '')\n"
     ]
    }
   ],
   "source": [
    "print(standardize_street_name(\"A Ave.\"))\n",
    "print(standardize_street_name(\"A Ave\"))\n",
    "print(standardize_street_name(\"A Avenue\"))\n",
    "\n"
   ]
  },
  {
   "cell_type": "markdown",
   "metadata": {},
   "source": [
    "2) Standardize Postal Codes\n",
    "\n",
    "Postal codes exist in multiple formats in the OpenStreetMap data:\n",
    "    e.g. #####, #####-####, <2-letter state abbreviation> 94404\n",
    "\n",
    "Since the last 4-digits are not very useful for this exercise, we will standardize the postal code as a 5-digit base zip code.\n"
   ]
  },
  {
   "cell_type": "code",
   "execution_count": null,
   "metadata": {
    "collapsed": false
   },
   "outputs": [],
   "source": []
  },
  {
   "cell_type": "code",
   "execution_count": 7,
   "metadata": {
    "collapsed": true
   },
   "outputs": [],
   "source": [
    "# Standardize postal code in 5-digit format\n",
    "postal_code_re = re.compile('\\d{5}([ \\-]\\d{4})?')\n",
    "\n",
    "# Standardize street types to make street names consistent where possible\n",
    "# Flag non-standard street names as these may be due to data entry errors.\n",
    "def standardize_postal_code(input_postal_code):\n",
    "    \n",
    "    was_successful = False\n",
    "    error_message = \"\"\n",
    "    output_postal_code = \"\"\n",
    "    \n",
    "    try:\n",
    "        # Extract postal code\n",
    "        output_postal_code = postal_code_re.search(input_postal_code).group()\n",
    "        # Only keep first 5 digits\n",
    "        output_postal_code = output_postal_code[0:5]\n",
    "        was_successful = True\n",
    "    except Exception as e:\n",
    "        was_successful = False\n",
    "        error_message = \"Unsupported postal code format: {}\".format(input_postal_code)\n",
    "        output_postal_code = input_postal_code\n",
    "\n",
    "    return was_successful, output_postal_code, error_message"
   ]
  },
  {
   "cell_type": "markdown",
   "metadata": {},
   "source": [
    "## Insert Contact Prefix for Email/Fax/Phone\n",
    "\n",
    "There is an official 'contact:' prefix tax but this is seldom used. More information can be found here.\n",
    "\n",
    "http://wiki.openstreetmap.org/wiki/Key:contact\n",
    "\n",
    "It is useful for grouping together contact details. Let's insert it if the tags are missing.\n",
    "\n"
   ]
  },
  {
   "cell_type": "code",
   "execution_count": 8,
   "metadata": {
    "collapsed": false
   },
   "outputs": [],
   "source": [
    "def is_contact_tag(tag_key):\n",
    "    return tag_key == 'phone' or tag_key == 'email' or tag_key == 'fax'"
   ]
  },
  {
   "cell_type": "code",
   "execution_count": 9,
   "metadata": {
    "collapsed": false
   },
   "outputs": [],
   "source": [
    "DATA_SUBSTITUTIONS = {\"3739601815\" : [\n",
    "        # This street tag contained unicode values that were causing problems in my script\n",
    "        # It looks like corrupted data (with longitude / latitude coordinates mixed in)\n",
    "        # Let's replace this tag to prevent import errors.\n",
    "        {\n",
    "        \"tag_name\" : \"addr:street\",\n",
    "        \"tag_value\" : \"* Removed by pre-import script *\"\n",
    "        }]}"
   ]
  },
  {
   "cell_type": "code",
   "execution_count": 10,
   "metadata": {
    "collapsed": false
   },
   "outputs": [
    {
     "name": "stdout",
     "output_type": "stream",
     "text": [
      "Unable to standardize phone number: (415-397-BROS)\n",
      "Unable to standardize phone number: (+49)\n",
      "Unable to standardize phone number: (885-2222)\n",
      "Unable to standardize phone number: (415 242 960)\n",
      "Unable to standardize phone number: (415 409 FARM)\n",
      "Unable to standardize phone number: (http://www.pastapastaco.com/)\n",
      "Unable to standardize phone number: (B Street & Vine)\n",
      "Unable to standardize phone number: (650368384)\n",
      "Unable to standardize phone number: (415-252-855)\n",
      "Unable to standardize phone number: (fire)\n",
      "Unable to standardize phone number: (+1-510-336-BAGS)\n",
      "Unable to standardize phone number: (+1-510-859-PIES)\n",
      "Unable to standardize phone number: (667-7005)\n",
      "Unable to standardize phone number: (15-358-1220)\n",
      "Unable to standardize phone number: (yes)\n",
      "Unable to standardize phone number: (+1 415 759 TOYS)\n",
      "Total # of Nodes and Ways: 4,412,192\n",
      "Filtered # of Nodes and Ways: 4,412,192\n",
      "Errors File: /Users/markmavromatis/Downloads/san-francisco_california_errors.txt\n",
      "Created new filtered nodes file: /Users/markmavromatis/Downloads/san-francisco_california_filtered.osm\n"
     ]
    }
   ],
   "source": [
    "#!/usr/bin/env python\n",
    "# -*- coding: utf-8 -*-\n",
    "\"\"\"\n",
    "Create new XML file with data cleansing changes\n",
    "\"\"\"\n",
    "import xml.etree.cElementTree as ET\n",
    "import pprint\n",
    "\n",
    "PHONE_FIELDS = ['phone','contact:phone','fax','contact:fax']\n",
    "\n",
    "def cleanse_xml_file(infile, outfile):\n",
    "    tags = {}\n",
    "    original_node_way_count = 0\n",
    "    filtered_node_way_count = 0\n",
    "\n",
    "    errorsfile = open(FINAL_OXM_ERRORS_FILE, 'w')\n",
    "    errorsfile.write(\"ID,ErrorType,SourceValue,ErrorMessage\\n\")\n",
    "    with open(outfile, 'w') as f:\n",
    "        # Create opening XML tag in our new file\n",
    "        f.write(\"<osm>\")\n",
    "        for event, elem in ET.iterparse(infile, events = ('start',)):\n",
    "            tag = elem.tag\n",
    "\n",
    "            # Check for nodes with child tags\n",
    "            if elem.tag == \"node\" or elem.tag == \"way\":\n",
    "                original_node_way_count += 1\n",
    "                for tag in elem.iter(\"tag\"):\n",
    "                    key_name = tag.attrib['k']\n",
    "                    key_value = tag.attrib['v']\n",
    "                    \n",
    "                    # Replace value if necessary\n",
    "                    record_id = elem.attrib['id']\n",
    "                    if record_id in DATA_SUBSTITUTIONS:\n",
    "                        for row in DATA_SUBSTITUTIONS[record_id]:\n",
    "                            if key_name == key_name:\n",
    "                                key_value = row['tag_value']                        \n",
    "                        \n",
    "\n",
    "                    final_key_name = \"\"\n",
    "                    final_key_value = \"\"\n",
    "\n",
    "                    # Check for contact: tag\n",
    "                    if is_contact_tag(key_name):\n",
    "                        final_key_name = \"contact:\" + key_name\n",
    "                    \n",
    "\n",
    "                    # Rename k='address' tag\n",
    "                    # In our final schema, we will rename the k='addr:___' tags to an address dictionary.\n",
    "                    # To prevent collisions with this tag, we will rename it to 'addr:address'\n",
    "                    if key_name == \"address\":\n",
    "                        final_key_name = \"addr:address\"\n",
    "\n",
    "                    # Cleanse phone number field\n",
    "                    if key_name in PHONE_FIELDS:\n",
    "                        was_successful, final_key_value, error_message = standardize_phone_number(key_value)\n",
    "                        if not was_successful:\n",
    "                            errorsfile.write(\"{}|Phone|{}\\n\".format(elem.attrib['id'], key_value))\n",
    "\n",
    "                    # Cleanse street name field\n",
    "                    if key_name == \"addr:street\":\n",
    "                        was_successful, final_key_value, error_message = standardize_street_name(key_value)\n",
    "                        if not was_successful:\n",
    "                            errorsfile.write(\"{}|Address|{}\\n\".format(elem.attrib['id'], key_value))\n",
    "\n",
    "                    # Standardize postal code field\n",
    "                    if key_name == \"addr:postcode\":\n",
    "                        was_successful, final_key_value, error_message = standardize_postal_code(key_value)\n",
    "                        if not was_successful:\n",
    "                            errorsfile.write(\"{}|PostalCode|{}\\n\".format(elem.attrib['id'], key_value))\n",
    "\n",
    "                    \n",
    "                    # Overwrite key value with new value\n",
    "                    if final_key_value != \"\":\n",
    "                        tag.attrib['v'] = final_key_value\n",
    "                    \n",
    "                    # Overwrite key name with new value\n",
    "                    if final_key_name != \"\":\n",
    "                        tag.attrib['k'] = final_key_name\n",
    "\n",
    "                        \n",
    "                filtered_node_way_count += 1\n",
    "                f.write(ET.tostring(elem))\n",
    "        # Create closing XML tag in our new file\n",
    "        f.write(\"</osm>\")\n",
    "        errorsfile.close()\n",
    "\n",
    "        print(\"Total # of Nodes and Ways: {:,}\".format(original_node_way_count))\n",
    "        print(\"Filtered # of Nodes and Ways: {:,}\".format(filtered_node_way_count))\n",
    "        print(\"Errors File: {}\".format(FINAL_OXM_ERRORS_FILE))\n",
    "\n",
    "\n",
    "    return tags\n",
    "\n",
    "cleanse_xml_file(ORIGINAL_FILE, FINAL_OXM_XML_FILE)\n",
    "print(\"Created new filtered nodes file: \" + FINAL_OXM_XML_FILE)"
   ]
  },
  {
   "cell_type": "markdown",
   "metadata": {},
   "source": []
  },
  {
   "cell_type": "code",
   "execution_count": null,
   "metadata": {
    "collapsed": true
   },
   "outputs": [],
   "source": []
  },
  {
   "cell_type": "code",
   "execution_count": null,
   "metadata": {
    "collapsed": true
   },
   "outputs": [],
   "source": []
  }
 ],
 "metadata": {
  "kernelspec": {
   "display_name": "Python 2",
   "language": "python",
   "name": "python2"
  },
  "language_info": {
   "codemirror_mode": {
    "name": "ipython",
    "version": 2
   },
   "file_extension": ".py",
   "mimetype": "text/x-python",
   "name": "python",
   "nbconvert_exporter": "python",
   "pygments_lexer": "ipython2",
   "version": "2.7.11"
  }
 },
 "nbformat": 4,
 "nbformat_minor": 0
}
