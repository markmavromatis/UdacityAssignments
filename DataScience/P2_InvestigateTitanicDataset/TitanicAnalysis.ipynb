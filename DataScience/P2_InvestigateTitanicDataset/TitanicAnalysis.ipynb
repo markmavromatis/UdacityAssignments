{
 "cells": [
  {
   "cell_type": "markdown",
   "metadata": {},
   "source": [
    "# P2 Assignment - Analysis of Titanic Passenger Data\n",
    "\n",
    "Our goal in this exercise is to review the Titanic passenger list provided by Kaggle and answer some questions regarding the surviving passengers.\n",
    "\n",
    "1. What percentage of passengers survived the disaster?\n",
    "2. Is there a relationship (correlation) between gender and survival rate?\n",
    "3. Is there a relationship between passenger class and survival rate?\n",
    "4. How about a combination of gender and passenger class?\n",
    "\n",
    "By loading this data into a python dataframe and drawing some graphs, we will attempt to answer these questions. \n",
    "\n",
    "Please note: The analysis of this data cannot show direct causation between these values. Our passenger data is limited to 891 out of 1317 passengers on the Titanic's maiden voyage. Many passenger records are missing age information. Also, passenger locations at the time of the disaster, as well as other factors such as passenger health, are not available in the dataset. Therefore our findings are tentative and would be more informative with a more complete data set.\n",
    "\n",
    "\n",
    "\n"
   ]
  },
  {
   "cell_type": "markdown",
   "metadata": {},
   "source": [
    "First we load the CSV data into a variable: titanic_data"
   ]
  },
  {
   "cell_type": "code",
   "execution_count": 1,
   "metadata": {
    "collapsed": false
   },
   "outputs": [
    {
     "name": "stdout",
     "output_type": "stream",
     "text": [
      "Loaded 891 Titanic data records\n"
     ]
    }
   ],
   "source": [
    "import matplotlib\n",
    "import numpy as np\n",
    "import pandas as pd\n",
    "import matplotlib.pyplot as plt\n",
    "%matplotlib inline\n",
    "#import seaborn as sns\n",
    "\n",
    "# Read in the Titanic CSV file into a Pandas dataframe\n",
    "titanic_filename = '/Users/markmavromatis/Library/Mobile Documents/com~apple~CloudDocs/Udacity/Data Science/Data Analysis/titanic_data.csv' \n",
    "titanic_data = pd.read_csv(titanic_filename)\n",
    "rowcount = len(titanic_data)\n",
    "print(\"Loaded {} Titanic data records\".format(rowcount))\n",
    "\n"
   ]
  },
  {
   "cell_type": "markdown",
   "metadata": {},
   "source": [
    "## How many passengers survived the Titanic disaster?\n",
    "\n",
    "To find out, let us create a new dataframe where the titanic data is aggregated by survival status ('Survived'). By counting the records in each group and dividing by total record count, we can display the survival rate in a pie chart."
   ]
  },
  {
   "cell_type": "code",
   "execution_count": 2,
   "metadata": {
    "collapsed": false
   },
   "outputs": [],
   "source": [
    "# This function groups a dataframe and returns the size as a new dataframe with group-by columns intact\n",
    "def get_counts(source_dataframe, grouped_fields):\n",
    "    return pd.DataFrame({'Count' : source_dataframe.groupby(grouped_fields).size()}).reset_index()"
   ]
  },
  {
   "cell_type": "code",
   "execution_count": 3,
   "metadata": {
    "collapsed": true
   },
   "outputs": [],
   "source": [
    "# We need a function to calculate the ratio based on a number (survivors / deaths) and a total (passenger count)\n",
    "def calculate_ratio(fraction_amount, total_amount):\n",
    "    return np.round(100.0 * fraction_amount / total_amount,2)"
   ]
  },
  {
   "cell_type": "code",
   "execution_count": 4,
   "metadata": {
    "collapsed": false
   },
   "outputs": [
    {
     "name": "stdout",
     "output_type": "stream",
     "text": [
      "   Survived  Count  Ratio\n",
      "0         0    549  61.62\n",
      "1         1    342  38.38\n"
     ]
    }
   ],
   "source": [
    "# What was the survival rate of the Titanic passengers in this limited dataset?\n",
    "grouped_by_survival = get_counts(titanic_data, ['Survived'] )\n",
    "grouped_by_survival['Total'] = rowcount\n",
    "grouped_by_survival['Ratio'] = calculate_ratio(grouped_by_survival['Count'], grouped_by_survival['Total'])\n",
    "print(grouped_by_survival[['Survived','Count','Ratio']])\n"
   ]
  },
  {
   "cell_type": "markdown",
   "metadata": {},
   "source": [
    "549 (61.62%) passengers died. 342 (38.38%) passengers survived. Let's see this on a pie chart."
   ]
  },
  {
   "cell_type": "code",
   "execution_count": 5,
   "metadata": {
    "collapsed": false
   },
   "outputs": [
    {
     "data": {
      "image/png": "[encoded data removed]",
      "text/plain": [
       "<matplotlib.figure.Figure at 0x108c17bd0>"
      ]
     },
     "metadata": {},
     "output_type": "display_data"
    }
   ],
   "source": [
    "labels = [\"Deaths\", \"Survivors\"]\n",
    "sizes = grouped_by_survival.sort_values(by='Survived')['Ratio']\n",
    "colors = ['red', 'green']\n",
    "explode = (0, 0.1)  # only \"explode\" the survivors slice\n",
    "\n",
    "plt.pie(sizes, explode=explode, labels=labels, colors=colors,\n",
    "        autopct='%1.1f%%', shadow=True, startangle=90)\n",
    "# Set aspect ratio to be equal so that pie is drawn as a circle.\n",
    "plt.axis('equal')\n",
    "plt.title(\"Titanic Survival Rate (%)\")\n",
    "plt.show()\n",
    "\n"
   ]
  },
  {
   "cell_type": "markdown",
   "metadata": {},
   "source": [
    "## Does the survival ratio look different for men vs. women?\n",
    "\n",
    "Perhaps women had higher survival rates due to the \"Women and children first\" priority for evacuating passengers. Let us break down the data by gender and see if the survival ratio changes."
   ]
  },
  {
   "cell_type": "code",
   "execution_count": 7,
   "metadata": {
    "collapsed": false
   },
   "outputs": [
    {
     "name": "stdout",
     "output_type": "stream",
     "text": [
      "      Sex  Survived  Count_x  Count_y  Ratio\n",
      "0  female         0       81      314  25.80\n",
      "1  female         1      233      314  74.20\n",
      "2    male         0      468      577  81.11\n",
      "3    male         1      109      577  18.89\n"
     ]
    }
   ],
   "source": [
    "# What is the gender breakdown of the Titanic passengers?\n",
    "# We want to calculate ratio for men vs. women using male passenger counts and female passenger counts\n",
    "grouped_by_gender = get_counts(titanic_data, [\"Sex\"])\n",
    "\n",
    "# What is the gender / survival breakdown of the Titanic passengers?\n",
    "grouped_by_gender_survival = get_counts(titanic_data, ['Sex', 'Survived'])\n",
    "\n",
    "# Join the gender passenger counts against the gender/survival breakdown so that the ratios can be calculated easily.\n",
    "graph_gender_survival = pd.merge(grouped_by_gender_survival,grouped_by_gender,on=['Sex'])\n",
    "#graph_gender_survival.columns.values[2] = 'Count'\n",
    "#graph_gender_survival.columns.values[3] = 'Total'\n",
    "\n",
    "graph_gender_survival['Ratio'] = calculate_ratio(graph_gender_survival['Count_x'], graph_gender_survival['Count_y'])\n",
    "\n",
    "print(graph_gender_survival)"
   ]
  },
  {
   "cell_type": "code",
   "execution_count": 8,
   "metadata": {
    "collapsed": false
   },
   "outputs": [
    {
     "data": {
      "image/png": "[encoded data removed]",
      "text/plain": [
       "<matplotlib.figure.Figure at 0x10c8a0310>"
      ]
     },
     "metadata": {},
     "output_type": "display_data"
    }
   ],
   "source": [
    "deaths = graph_gender_survival[graph_gender_survival.Survived == 0].sort_values(by = ['Sex'])['Ratio']\n",
    "survivors = graph_gender_survival[graph_gender_survival.Survived == 1].sort_values(by = ['Sex'])['Ratio']\n",
    "\n",
    "n = 2\n",
    "ind = np.arange(n)\n",
    "\n",
    "fig, ax = plt.subplots()\n",
    "width = 0.35\n",
    "rects1 = ax.bar(ind, deaths, width, color='r')\n",
    "rects2 = ax.bar(ind + width, survivors, width, color='y')\n",
    "\n",
    "ax.set_ylabel('Rate (% of all passengers)')\n",
    "ax.set_title(\"Survival Rates (by Gender) of Titanic Passengers\")\n",
    "ax.set_xticks(ind + 0.35)\n",
    "ax.set_xticklabels(('Female','Male'))\n",
    "ax.legend((rects1[0], rects2[0]), (\"Death %\",\"Survival %\"))\n",
    "plt.show()"
   ]
  },
  {
   "cell_type": "markdown",
   "metadata": {},
   "source": [
    "### Women were much more likely to survive the Titanic disaster.\n",
    "\n",
    "The numbers look very different for men vs. women. \n",
    "\n",
    "According to this dataset, 74% of the female passengers survived the Titanic disaster. Only 18% of the male passengers survived.\n",
    "\n",
    "Gender appears to be correlated with survival rates. Let's calculate correlation using Pearson's R equation."
   ]
  },
  {
   "cell_type": "code",
   "execution_count": 13,
   "metadata": {
    "collapsed": true
   },
   "outputs": [],
   "source": [
    "# Calculate Correlation using Pearsons R\n",
    "def calculate_correlation(x, y):\n",
    "    x_mean = x.mean()\n",
    "    x_stddev = x.std(ddof=0)\n",
    "    x_stdunits = (x - x_mean) / x_stddev\n",
    "\n",
    "    y_mean = y.mean()\n",
    "    y_stddev = y.std(ddof=0)\n",
    "    y_stdunits = (y - y_mean) / y_stddev\n",
    "\n",
    "    z = x_stdunits * y_stdunits\n",
    "    return z.mean()\n"
   ]
  },
  {
   "cell_type": "code",
   "execution_count": 14,
   "metadata": {
    "collapsed": true
   },
   "outputs": [],
   "source": [
    "# In order to calculate Pearson's R, we need a numerical mean.\n",
    "# Gender is represented as \"male\" or \"female\" in the Titanic passenger data.\n",
    "# To calculate a mean for gender, we will assign an arbitrary value for gender: 1 for males and 2 for females.\n",
    "def convert_gender_to_number(x):\n",
    "    if x == \"male\":\n",
    "        return 1\n",
    "    else:\n",
    "        return 2\n",
    "    "
   ]
  },
  {
   "cell_type": "code",
   "execution_count": 15,
   "metadata": {
    "collapsed": false
   },
   "outputs": [
    {
     "name": "stdout",
     "output_type": "stream",
     "text": [
      "Gender / Survived correlation = 0.54\n"
     ]
    }
   ],
   "source": [
    "correlation_gender = calculate_correlation(titanic_data['Survived'], titanic_data['Sex'].apply(convert_gender_to_number))\n",
    "print(\"Gender / Survived correlation = \" + str(round(correlation_gender, 2)))"
   ]
  },
  {
   "cell_type": "markdown",
   "metadata": {},
   "source": [
    "### Gender and Survival Rate are highly correlated!\n",
    "\n",
    "A correlation factor of 0.54 indicates a high correlation between gender and survival. "
   ]
  },
  {
   "cell_type": "markdown",
   "metadata": {},
   "source": [
    "## Let us also check Passenger Class (PClass). \n",
    "\n",
    "Does passenger class correlate to survival rates on the Titanic? Let's repeat the above exercise for passenger class.\n",
    "\n",
    "1. Calculate survival / death ratio by passenger class.\n",
    "2. Draw a graph showing survival rates across classes.\n",
    "3. Calculate correlation."
   ]
  },
  {
   "cell_type": "code",
   "execution_count": 16,
   "metadata": {
    "collapsed": false
   },
   "outputs": [
    {
     "name": "stdout",
     "output_type": "stream",
     "text": [
      "   Pclass  Count_x  Survived  Ratio\n",
      "0       1       80         0  37.04\n",
      "1       1      136         1  62.96\n",
      "2       2       97         0  52.72\n",
      "3       2       87         1  47.28\n",
      "4       3      372         0  75.76\n",
      "5       3      119         1  24.24\n"
     ]
    }
   ],
   "source": [
    "# Does Passenger Class affect survival rates?\n",
    "# Perhaps a higher passenger class correlates to higher survival rates on Titanic?\n",
    "\n",
    "# What is the passenger class breakdown of the Titanic passengers?\n",
    "grouped_by_pclass = get_counts(titanic_data, [\"Pclass\"])\n",
    "\n",
    "# Also count survivors vs. deaths by passenger class\n",
    "grouped_by_pclass_survival = get_counts(titanic_data, [\"Pclass\", \"Survived\"])\n",
    "\n",
    "# Join the data so that we can calculate survival / death rate (count / pclass subtotal)\n",
    "graph_pclass_survival = pd.merge(grouped_by_pclass_survival,grouped_by_pclass,on=['Pclass'])\n",
    "graph_pclass_survival['Ratio'] = calculate_ratio(graph_pclass_survival['Count_x'], graph_pclass_survival['Count_y'])\n",
    "\n",
    "print(graph_pclass_survival[['Pclass','Count_x','Survived','Ratio']])"
   ]
  },
  {
   "cell_type": "code",
   "execution_count": 17,
   "metadata": {
    "collapsed": false
   },
   "outputs": [
    {
     "data": {
      "image/png": "[encoded data removed]",
      "text/plain": [
       "<matplotlib.figure.Figure at 0x10c828590>"
      ]
     },
     "metadata": {},
     "output_type": "display_data"
    }
   ],
   "source": [
    "deaths = graph_pclass_survival[graph_pclass_survival.Survived == 0].sort_values(by = ['Pclass'])['Ratio']\n",
    "survivors = graph_pclass_survival[graph_pclass_survival.Survived == 1].sort_values(by = ['Pclass'])['Ratio']\n",
    "\n",
    "n = 3\n",
    "ind = np.arange(n)\n",
    "\n",
    "fig, ax = plt.subplots()\n",
    "width = 0.35\n",
    "rects1 = ax.bar(ind, deaths, width, color='r')\n",
    "rects2 = ax.bar(ind + width, survivors, width, color='y')\n",
    "\n",
    "ax.set_ylabel('Rate (% of all passengers)')\n",
    "ax.set_title(\"Survival Rates (by Pclass) of Titanic Passengers\")\n",
    "ax.set_xticks(ind + 0.35)\n",
    "ax.set_xticklabels(('1st Class','2nd Class', '3rd Class'))\n",
    "ax.legend((rects1[0], rects2[0]), (\"Deaths\",\"Survivors\"))\n",
    "plt.show()"
   ]
  },
  {
   "cell_type": "code",
   "execution_count": 18,
   "metadata": {
    "collapsed": false
   },
   "outputs": [],
   "source": [
    "# When calculating correlation, since we expect higher passenger class (i.e. 1st class) \n",
    "# to result in higher survival rates, let's reverse the value of passenger class so \n",
    "# that 1st class has the highest value.\n",
    "def convert_pclass_to_number(x):\n",
    "    if x == 1:\n",
    "        return 3\n",
    "    elif x == 2:\n",
    "        return 2\n",
    "    else:\n",
    "        return 1"
   ]
  },
  {
   "cell_type": "code",
   "execution_count": 19,
   "metadata": {
    "collapsed": false
   },
   "outputs": [
    {
     "name": "stdout",
     "output_type": "stream",
     "text": [
      "Pclass Correlation = 0.338481035961\n"
     ]
    }
   ],
   "source": [
    "correlation_pclass = calculate_correlation(titanic_data['Survived'], titanic_data['Pclass'].apply(convert_pclass_to_number))\n",
    "print(\"Pclass Correlation = \" + str(correlation_pclass))\n"
   ]
  },
  {
   "cell_type": "markdown",
   "metadata": {},
   "source": [
    "## Passenger class is slightly correlated with survival rate.\n",
    "\n",
    "However, the correlation is not as significant as gender. What happens if we combine gender and passenger class? Is this a stronger correlation than gender alone?\n",
    "\n",
    "## Let us repeat this exercise for passenger class and gender.\n",
    "\n",
    "1. Count the survivors and deaths for each passenger class / gender\n",
    "2. Plot the data in a bar chart\n",
    "3. Calculate correlation."
   ]
  },
  {
   "cell_type": "code",
   "execution_count": 20,
   "metadata": {
    "collapsed": false
   },
   "outputs": [
    {
     "name": "stdout",
     "output_type": "stream",
     "text": [
      "    Pclass     Sex  Survived  Ratio\n",
      "0        1  female         0   3.19\n",
      "1        1  female         1  96.81\n",
      "2        1    male         0  63.11\n",
      "3        1    male         1  36.89\n",
      "4        2  female         0   7.89\n",
      "5        2  female         1  92.11\n",
      "6        2    male         0  84.26\n",
      "7        2    male         1  15.74\n",
      "8        3  female         0  50.00\n",
      "9        3  female         1  50.00\n",
      "10       3    male         0  86.46\n",
      "11       3    male         1  13.54\n"
     ]
    }
   ],
   "source": [
    "# What happens when we combine Passenger Class with Gender? \n",
    "# Do we get as stronger correlation with survival rates?\n",
    "\n",
    "# What is the passenger class breakdown of the Titanic passengers?\n",
    "grouped_by_pclass_gender = get_counts(titanic_data, [\"Pclass\", \"Sex\"])\n",
    "\n",
    "grouped_by_pclass_gender_survival = get_counts(titanic_data, [\"Pclass\", \"Sex\", \"Survived\"])\n",
    "\n",
    "graph_pclass_gender_survival = pd.merge(grouped_by_pclass_gender_survival,grouped_by_pclass_gender,on=['Pclass', 'Sex'])\n",
    "graph_pclass_gender_survival['Ratio'] = calculate_ratio(graph_pclass_gender_survival['Count_x'], graph_pclass_gender_survival['Count_y'])\n",
    "\n",
    "print(graph_pclass_gender_survival[['Pclass','Sex','Survived','Ratio']])\n"
   ]
  },
  {
   "cell_type": "code",
   "execution_count": 21,
   "metadata": {
    "collapsed": false
   },
   "outputs": [
    {
     "data": {
      "image/png": "[encoded data removed]",
      "text/plain": [
       "<matplotlib.figure.Figure at 0x10bf4ba10>"
      ]
     },
     "metadata": {},
     "output_type": "display_data"
    }
   ],
   "source": [
    "deaths = graph_pclass_gender_survival[graph_pclass_gender_survival.Survived == 0].sort_values(by = ['Pclass', 'Sex'])['Ratio']\n",
    "survivors = graph_pclass_gender_survival[graph_pclass_gender_survival.Survived == 1].sort_values(by = ['Pclass', 'Sex'])['Ratio']\n",
    "\n",
    "n = 6\n",
    "ind = np.arange(n) * 2\n",
    "\n",
    "fig, ax = plt.subplots()\n",
    "width = 0.50\n",
    "rects1 = ax.bar(ind, deaths, width, color='r')\n",
    "rects2 = ax.bar(ind + width, survivors, width, color='y')\n",
    "\n",
    "ax.set_ylabel('Rate (% of all passengers)')\n",
    "ax.set_title(\"Survival Rates (by Pclass / Gender) of Titanic Passengers\")\n",
    "ax.set_xticks(ind + 0.35)\n",
    "ax.set_xticklabels(('P1 (Female)','P1 (Male)','P2 (Female)','P2 (Male)','P3 (Female)','P3 (Male)'))\n",
    "ax.legend((rects1[0], rects2[0]), (\"Deaths\",\"Survivors\"))\n",
    "plt.show()"
   ]
  },
  {
   "cell_type": "code",
   "execution_count": 22,
   "metadata": {
    "collapsed": false
   },
   "outputs": [
    {
     "name": "stdout",
     "output_type": "stream",
     "text": [
      "Pclass / Gender correlation = 0.569849431566\n"
     ]
    }
   ],
   "source": [
    "# To calculate correlation here, both gender and passenger class have to be converted to numeric values.\n",
    "# Male = 1, Female = 2\n",
    "# Pclass 1 = 3, Pclass 2 = 2, Pclass 3 = 3\n",
    "# Compare survival status (0 = death, 1 = survived) against product of gender and passenger class numeric values. \n",
    "product_pclass_gender = titanic_data['Sex'].apply(convert_gender_to_number) * titanic_data['Pclass'].apply(convert_pclass_to_number)\n",
    "correlation_pclass_gender = calculate_correlation(titanic_data['Survived'], product_pclass_gender)\n",
    "print(\"Pclass / Gender correlation = \" + str(correlation_pclass_gender))\n",
    "\n"
   ]
  },
  {
   "cell_type": "markdown",
   "metadata": {},
   "source": [
    "## Pclass + Gender correlation is higher than gender alone.\n",
    "\n",
    "These factors have a correlation ratio of 0.57. This correlation is slightly higher than gender alone (0.54). \n",
    "\n",
    "From the graph, it is apparent that survival rates come down for lower passenger classes. There is a large difference in survival rates between the top and bottom passenger classes for both females (97% vs. 50%) and males (37% vs. 14%). However there is not much difference between survival rates for women in the top two passenger classes (97%, 92%) and men in the lower two passenger classes (16%, 14%)."
   ]
  },
  {
   "cell_type": "markdown",
   "metadata": {},
   "source": [
    "## References:\n",
    "\n",
    "* Matplotlib Documentation (Axes): http://matplotlib.org/api/axes_api.html\n",
    "* Matplotlib Documentation (Pyplot): http://matplotlib.org/api/pyplot_api.html\n",
    "* Kaggle Titanic Challenge: https://www.kaggle.com/c/titanic\n",
    "* Wikipedia Titanic Information: https://en.wikipedia.org/wiki/RMS_Titanic\n"
   ]
  },
  {
   "cell_type": "code",
   "execution_count": null,
   "metadata": {
    "collapsed": true
   },
   "outputs": [],
   "source": []
  }
 ],
 "metadata": {
  "kernelspec": {
   "display_name": "Python 2",
   "language": "python",
   "name": "python2"
  },
  "language_info": {
   "codemirror_mode": {
    "name": "ipython",
    "version": 2
   },
   "file_extension": ".py",
   "mimetype": "text/x-python",
   "name": "python",
   "nbconvert_exporter": "python",
   "pygments_lexer": "ipython2",
   "version": "2.7.11"
  }
 },
 "nbformat": 4,
 "nbformat_minor": 0
}
